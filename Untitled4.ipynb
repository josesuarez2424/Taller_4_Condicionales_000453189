{
  "nbformat": 4,
  "nbformat_minor": 0,
  "metadata": {
    "colab": {
      "provenance": [],
      "authorship_tag": "ABX9TyPX0Z7QV0C/gyDwfBfc/ARd",
      "include_colab_link": true
    },
    "kernelspec": {
      "name": "python3",
      "display_name": "Python 3"
    },
    "language_info": {
      "name": "python"
    }
  },
  "cells": [
    {
      "cell_type": "markdown",
      "metadata": {
        "id": "view-in-github",
        "colab_type": "text"
      },
      "source": [
        "<a href=\"https://colab.research.google.com/github/josesuarez2424/Taller_4_Condicionales_000453189/blob/main/Untitled4.ipynb\" target=\"_parent\"><img src=\"https://colab.research.google.com/assets/colab-badge.svg\" alt=\"Open In Colab\"/></a>"
      ]
    },
    {
      "cell_type": "markdown",
      "source": [
        "# el estudiante aprobo o reprobo"
      ],
      "metadata": {
        "id": "E7TdPDO1UgeW"
      }
    },
    {
      "cell_type": "code",
      "source": [
        "# Solicitar al usuario ingresar una calificación numérica\n",
        "calificacion = float(input(\"Ingrese la calificación numérica (de 0 a 5): \"))\n",
        "\n",
        "# Verificar si la calificación está en el rango válido (0 a 5)\n",
        "if 0 <= calificacion <= 5:\n",
        "    # Comprobar si el estudiante aprobó (calificación mayor o igual a 3)\n",
        "    if calificacion >= 3:\n",
        "        print(\"El estudiante aprobó.\")\n",
        "    else:\n",
        "        print(\"El estudiante reprobó.\")\n",
        "else:\n",
        "    print(\"La calificación ingresada no está en el rango válido (de 0 a 5).\")"
      ],
      "metadata": {
        "colab": {
          "base_uri": "https://localhost:8080/"
        },
        "id": "sFE2xpDsUmHQ",
        "outputId": "997f3f86-4120-4889-b891-878551bc708b"
      },
      "execution_count": 5,
      "outputs": [
        {
          "output_type": "stream",
          "name": "stdout",
          "text": [
            "Ingrese la calificación numérica (de 0 a 5): 3\n",
            "El estudiante aprobó.\n"
          ]
        }
      ]
    },
    {
      "cell_type": "code",
      "source": [
        "# Solicitar al usuario ingresar una calificación numérica\n",
        "calificacion = float(input(\"Ingrese la calificación numérica (de 0 a 5): \"))\n",
        "\n",
        "# Verificar si la calificación está en el rango válido (0 a 5)\n",
        "if 0 <= calificacion <= 5:\n",
        "    # Comprobar si el estudiante aprobó (calificación mayor o igual a 3)\n",
        "    if calificacion >= 3:\n",
        "        print(\"El estudiante aprobó.\")\n",
        "    else:\n",
        "        print(\"El estudiante reprobó.\")\n",
        "else:\n",
        "    print(\"La calificación ingresada no está en el rango válido (de 0 a 5).\")"
      ],
      "metadata": {
        "colab": {
          "base_uri": "https://localhost:8080/"
        },
        "id": "TaDVokVqX4Z6",
        "outputId": "8c7473d9-d3be-4571-d4ed-83ba9508dc10"
      },
      "execution_count": 6,
      "outputs": [
        {
          "output_type": "stream",
          "name": "stdout",
          "text": [
            "Ingrese la calificación numérica (de 0 a 5): 2\n",
            "El estudiante reprobó.\n"
          ]
        }
      ]
    },
    {
      "cell_type": "markdown",
      "source": [
        "# determinar si el numero es positivo o negativo o cero"
      ],
      "metadata": {
        "id": "HGLDHu2PWkVs"
      }
    },
    {
      "cell_type": "code",
      "source": [
        "numero = float(input(\"Ingresa un número: \"))\n",
        "\n",
        "# Verificar si el número es negativo, positivo o cero\n",
        "if numero > 0:\n",
        "    print(\"El número ingresado es positivo.\")\n",
        "elif numero < 0:\n",
        "    print(\"El número ingresado es negativo.\")\n",
        "else:\n",
        "    print(\"El número ingresado es igual a cero.\")"
      ],
      "metadata": {
        "colab": {
          "base_uri": "https://localhost:8080/"
        },
        "id": "gpLGnm-kWqIS",
        "outputId": "af302d1b-e8e7-4029-f8bd-9fd0eeb78049"
      },
      "execution_count": 17,
      "outputs": [
        {
          "output_type": "stream",
          "name": "stdout",
          "text": [
            "Ingresa un número: 6\n",
            "El número ingresado es positivo.\n"
          ]
        }
      ]
    },
    {
      "cell_type": "code",
      "source": [
        "numero = float(input(\"Ingresa un número: \"))\n",
        "\n",
        "# Verificar si el número es negativo, positivo o cero\n",
        "if numero > 0:\n",
        "    print(\"El número ingresado es positivo.\")\n",
        "elif numero < 0:\n",
        "    print(\"El número ingresado es negativo.\")\n",
        "else:\n",
        "    print(\"El número ingresado es igual a cero.\")"
      ],
      "metadata": {
        "colab": {
          "base_uri": "https://localhost:8080/"
        },
        "id": "H3Inpp-alqCg",
        "outputId": "c3c473db-4ae8-4441-f50e-c3ffe7c5eda6"
      },
      "execution_count": 18,
      "outputs": [
        {
          "output_type": "stream",
          "name": "stdout",
          "text": [
            "Ingresa un número: -10\n",
            "El número ingresado es negativo.\n"
          ]
        }
      ]
    },
    {
      "cell_type": "markdown",
      "source": [
        "# verificar la contraseña"
      ],
      "metadata": {
        "id": "frJdd_4-dBoa"
      }
    },
    {
      "cell_type": "code",
      "source": [
        "contrasena = input(\"Por favor, ingresa tu contraseña: \")\n",
        "\n",
        "# Definir la contraseña válida\n",
        "contrasena_valida = \"guacoche\"\n",
        "\n",
        "# Comprobar si la contraseña ingresada es igual a la contraseña válida\n",
        "if contrasena == contrasena_valida:\n",
        "    print(\"Contraseña válida\")\n",
        "else:\n",
        "    print(\"Contraseña incorrecta\")"
      ],
      "metadata": {
        "colab": {
          "base_uri": "https://localhost:8080/"
        },
        "id": "JCFGIKMsdaYd",
        "outputId": "78007b83-36ed-4099-c8aa-16e758d29b62"
      },
      "execution_count": 11,
      "outputs": [
        {
          "output_type": "stream",
          "name": "stdout",
          "text": [
            "Por favor, ingresa tu contraseña: guacoche\n",
            "Contraseña válida\n"
          ]
        }
      ]
    },
    {
      "cell_type": "code",
      "source": [
        "contrasena = input(\"Por favor, ingresa tu contraseña: \")\n",
        "\n",
        "# Definir la contraseña válida\n",
        "contrasena_valida = \"guacoche\"\n",
        "\n",
        "# Comprobar si la contraseña ingresada es igual a la contraseña válida\n",
        "if contrasena == contrasena_valida:\n",
        "    print(\"Contraseña válida\")\n",
        "else:\n",
        "    print(\"Contraseña incorrecta\")"
      ],
      "metadata": {
        "colab": {
          "base_uri": "https://localhost:8080/"
        },
        "id": "atp8IRf4l0hX",
        "outputId": "8f900005-9493-402b-9ed9-388a15fbc3bd"
      },
      "execution_count": 19,
      "outputs": [
        {
          "output_type": "stream",
          "name": "stdout",
          "text": [
            "Por favor, ingresa tu contraseña: jose\n",
            "Contraseña incorrecta\n"
          ]
        }
      ]
    },
    {
      "cell_type": "markdown",
      "source": [
        "# determinar si un numero es par o impar"
      ],
      "metadata": {
        "id": "Yj73MfrJeMIP"
      }
    },
    {
      "cell_type": "code",
      "source": [
        "n = int(input(\"Introduce un número: \"))\n",
        "if n % 2 == 0:\n",
        "    print(\"El número \" + str(n) + \" es par\")\n",
        "else:\n",
        "    print(\"El número \" + str(n) + \" es impar\")"
      ],
      "metadata": {
        "colab": {
          "base_uri": "https://localhost:8080/"
        },
        "id": "rTLWwEFeei8K",
        "outputId": "6a0c9257-f7ca-43cd-eaf0-be481fd11649"
      },
      "execution_count": 13,
      "outputs": [
        {
          "output_type": "stream",
          "name": "stdout",
          "text": [
            "Introduce un número: 3\n",
            "El número 3 es impar\n"
          ]
        }
      ]
    },
    {
      "cell_type": "code",
      "source": [
        "n = int(input(\"Introduce un número: \"))\n",
        "if n % 2 == 0:\n",
        "    print(\"El número \" + str(n) + \" es par\")\n",
        "else:\n",
        "    print(\"El número \" + str(n) + \" es impar\")"
      ],
      "metadata": {
        "colab": {
          "base_uri": "https://localhost:8080/"
        },
        "id": "cYMWl99El_aa",
        "outputId": "c9afba49-cdb1-48d7-942d-4739727fe80e"
      },
      "execution_count": 20,
      "outputs": [
        {
          "output_type": "stream",
          "name": "stdout",
          "text": [
            "Introduce un número: 4\n",
            "El número 4 es par\n"
          ]
        }
      ]
    },
    {
      "cell_type": "markdown",
      "source": [
        "# determinar el numero mayor"
      ],
      "metadata": {
        "id": "mXGdONM7f57u"
      }
    },
    {
      "cell_type": "code",
      "source": [
        "# Solicitar al usuario ingresar cinco números\n",
        "numero110 = float(input(\"Ingrese el primer número: \"))\n",
        "numero220 = float(input(\"Ingrese el segundo número: \"))\n",
        "numero3300 = float(input(\"Ingrese el tercer número: \"))\n",
        "numero440 = float(input(\"Ingrese el cuarto número: \"))\n",
        "numero550 = float(input(\"Ingrese el quinto número: \"))\n",
        "\n",
        "# Utilizar estructuras de selección doble para determinar el número mayor\n",
        "if numero110 > numero220:\n",
        "                     mayor = numero110\n",
        "else:\n",
        "                     mayor = numero220\n",
        "\n",
        "if numero3300 > mayor:\n",
        "                     mayor = numero3300\n",
        "\n",
        "if numero440 > mayor:\n",
        "                     mayor = numero440\n",
        "\n",
        "if numero550 > mayor:\n",
        "                    mayor = numero550\n",
        "\n",
        "# Imprimir el número mayor\n",
        "print(\"El número mayor es:\", mayor)"
      ],
      "metadata": {
        "colab": {
          "base_uri": "https://localhost:8080/"
        },
        "id": "ebQZvbYpgBrG",
        "outputId": "01b70cca-9378-4d38-cbf0-8b9d9aa144d4"
      },
      "execution_count": 28,
      "outputs": [
        {
          "output_type": "stream",
          "name": "stdout",
          "text": [
            "Ingrese el primer número: 110\n",
            "Ingrese el segundo número: 220\n",
            "Ingrese el tercer número: 3300\n",
            "Ingrese el cuarto número: 440\n",
            "Ingrese el quinto número: 550\n",
            "El número mayor es: 3300.0\n"
          ]
        }
      ]
    }
  ]
}